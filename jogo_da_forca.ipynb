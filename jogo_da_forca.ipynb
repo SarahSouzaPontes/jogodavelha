{
  "nbformat": 4,
  "nbformat_minor": 0,
  "metadata": {
    "colab": {
      "provenance": [],
      "authorship_tag": "ABX9TyPF0FeoH13qboyXF7q71xiu",
      "include_colab_link": true
    },
    "kernelspec": {
      "name": "python3",
      "display_name": "Python 3"
    },
    "language_info": {
      "name": "python"
    }
  },
  "cells": [
    {
      "cell_type": "markdown",
      "metadata": {
        "id": "view-in-github",
        "colab_type": "text"
      },
      "source": [
        "<a href=\"https://colab.research.google.com/github/SarahSouzaPontes/jogodavelha/blob/main/jogo_da_forca.ipynb\" target=\"_parent\"><img src=\"https://colab.research.google.com/assets/colab-badge.svg\" alt=\"Open In Colab\"/></a>"
      ]
    },
    {
      "cell_type": "code",
      "execution_count": null,
      "metadata": {
        "colab": {
          "base_uri": "https://localhost:8080/"
        },
        "id": "P4Nr8d9aL071",
        "outputId": "36216175-11e4-480c-df0b-dfce90a41d77"
      },
      "outputs": [
        {
          "name": "stdout",
          "output_type": "stream",
          "text": [
            "Bem-vindo ao jogo!\n",
            "Escolha o nível de dificuldade (fácil, médio, difícil): fácil\n"
          ]
        }
      ],
      "source": [
        "# Função para nível de dificuldade do jogo\n",
        "import random\n",
        "\n",
        "def jogo():\n",
        "    print(\"Bem-vindo ao jogo!\")\n",
        "    nivel = input(\"Escolha o nível de dificuldade (fácil, médio, difícil): \")\n",
        "\n",
        "jogo()\n"
      ]
    },
    {
      "cell_type": "code",
      "source": [
        "import random\n",
        "\n",
        "def jogo():\n",
        "    print(\"Bem-vindo ao jogo!\")\n",
        "    nivel = input(\"Escolha o nível de dificuldade (fácil, médio, difícil): \")\n",
        "\n",
        "    limite_inferior, limite_superior, tentativas = definir_dificuldade(nivel)\n",
        "\n",
        "    if limite_inferior is None:\n",
        "        print(\"Nível inválido. Por favor, escolha entre fácil, médio ou difícil.\")\n",
        "        return\n",
        "\n",
        "    palavras = [\"python\", \"programação\", \"jogo\", \"computador\", \"desafio\"]\n",
        "    palavra_secreta = random.choice(palavras).lower()\n",
        "    letras_corretas = []\n",
        "    letras_incorretas = []\n",
        "\n",
        "    print(\"Adivinhe a palavra secreta!\")\n",
        "\n",
        "    while True:\n",
        "        if len(letras_incorretas) == tentativas:\n",
        "            print(\"Você perdeu! A palavra secreta era:\", palavra_secreta)\n",
        "            break\n",
        "\n",
        "        for letra in palavra_secreta:\n",
        "            if letra in letras_corretas:\n",
        "                print(letra, end=\" \")\n",
        "            else:\n",
        "                print(\"_\", end=\" \")\n",
        "\n",
        "        print(\"\\n\")\n",
        "\n",
        "        if letras_corretas == list(palavra_secreta):\n",
        "            print(\"Parabéns! Você acertou a palavra secreta:\", palavra_secreta)\n",
        "            break\n",
        "\n",
        "        palpite = input(\"Digite uma letra: \").lower()\n",
        "\n",
        "        if len(palpite) != 1:\n",
        "            print(\"Por favor, digite apenas uma letra por vez.\")\n",
        "            continue\n",
        "\n",
        "        if palpite in letras_corretas or palpite in letras_incorretas:\n",
        "            print(\"Você já tentou essa letra. Tente novamente.\")\n",
        "            continue\n",
        "\n",
        "        if palpite in palavra_secreta:\n",
        "            letras_corretas.append(palpite)\n",
        "        else:\n",
        "            letras_incorretas.append(palpite)\n",
        "            print(\"Letra incorreta! Você ainda tem\", tentativas - len(letras_incorretas), \"tentativas restantes.\")\n",
        "\n",
        "        print(\"\\n\")\n",
        "\n",
        "def definir_dificuldade(nivel):\n",
        "    if nivel.lower() == \"fácil\":\n",
        "        return 1, 10, 6\n",
        "    elif nivel.lower() == \"médio\":\n",
        "        return 1, 50, 4\n",
        "    elif nivel.lower() == \"difícil\":\n",
        "        return 1, 100, 3\n",
        "    else:\n",
        "        return None, None, None\n",
        "\n",
        "jogo()\n"
      ],
      "metadata": {
        "colab": {
          "base_uri": "https://localhost:8080/"
        },
        "id": "nx0G-BVQNev4",
        "outputId": "ffcb9972-7dca-48cc-b1a2-bea6248741a9"
      },
      "execution_count": null,
      "outputs": [
        {
          "output_type": "stream",
          "name": "stdout",
          "text": [
            "Bem-vindo ao jogo!\n",
            "Escolha o nível de dificuldade (fácil, médio, difícil): fácil\n",
            "Adivinhe a palavra secreta!\n",
            "_ _ _ _ _ _ _ \n",
            "\n",
            "Digite uma letra: a\n",
            "\n",
            "\n",
            "_ _ _ a _ _ _ \n",
            "\n",
            "Digite uma letra: b\n",
            "Letra incorreta! Você ainda tem 5 tentativas restantes.\n",
            "\n",
            "\n",
            "_ _ _ a _ _ _ \n",
            "\n",
            "Digite uma letra: c\n",
            "Letra incorreta! Você ainda tem 4 tentativas restantes.\n",
            "\n",
            "\n",
            "_ _ _ a _ _ _ \n",
            "\n",
            "Digite uma letra: e\n",
            "\n",
            "\n",
            "_ e _ a _ _ _ \n",
            "\n",
            "Digite uma letra: i\n",
            "\n",
            "\n",
            "_ e _ a _ i _ \n",
            "\n",
            "Digite uma letra: u\n",
            "Letra incorreta! Você ainda tem 3 tentativas restantes.\n",
            "\n",
            "\n",
            "_ e _ a _ i _ \n",
            "\n",
            "Digite uma letra: b\n",
            "Você já tentou essa letra. Tente novamente.\n",
            "_ e _ a _ i _ \n",
            "\n",
            "Digite uma letra: c\n",
            "Você já tentou essa letra. Tente novamente.\n",
            "_ e _ a _ i _ \n",
            "\n",
            "Digite uma letra: d\n",
            "\n",
            "\n",
            "d e _ a _ i _ \n",
            "\n",
            "Digite uma letra: f\n",
            "\n",
            "\n",
            "d e _ a f i _ \n",
            "\n",
            "Digite uma letra: g\n",
            "Letra incorreta! Você ainda tem 2 tentativas restantes.\n",
            "\n",
            "\n",
            "d e _ a f i _ \n",
            "\n",
            "Digite uma letra: h\n",
            "Letra incorreta! Você ainda tem 1 tentativas restantes.\n",
            "\n",
            "\n",
            "d e _ a f i _ \n",
            "\n",
            "Digite uma letra: j\n",
            "Letra incorreta! Você ainda tem 0 tentativas restantes.\n",
            "\n",
            "\n",
            "Você perdeu! A palavra secreta era: desafio\n"
          ]
        }
      ]
    }
  ]
}